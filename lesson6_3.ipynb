{
 "cells": [
  {
   "cell_type": "code",
   "execution_count": 1,
   "metadata": {},
   "outputs": [
    {
     "name": "stdout",
     "output_type": "stream",
     "text": [
      "===========猜數字遊戲=============\n",
      "猜數字範圍1~100:50\n",
      "再大一點\n",
      "您已經猜了1次\n",
      "猜數字範圍51~100:Number must be at minimum 51.\n",
      "猜數字範圍51~100:60\n",
      "再大一點\n",
      "您已經猜了2次\n",
      "猜數字範圍61~100:70\n",
      "再大一點\n",
      "您已經猜了3次\n",
      "猜數字範圍71~100:80\n",
      "再大一點\n",
      "您已經猜了4次\n",
      "猜數字範圍81~100:90\n",
      "再大一點\n",
      "您已經猜了5次\n",
      "猜數字範圍91~100:96\n",
      "再大一點\n",
      "您已經猜了6次\n",
      "猜數字範圍97~100:98\n",
      "再大一點\n",
      "您已經猜了7次\n",
      "猜數字範圍99~100:100\n",
      "賓果!猜對了, 答案是:100\n",
      "您共猜了:8次\n",
      "Game Over!\n"
     ]
    }
   ],
   "source": [
    "import random\n",
    "import pyinputplus as pyip\n",
    "\n",
    "min = 1\n",
    "max = 100\n",
    "count = 0\n",
    "randomNum = random.randint(min,max)\n",
    "\n",
    "print(\"===========猜數字遊戲=============\")\n",
    "while True:\n",
    "    keyin = pyip.inputInt(f\"猜數字範圍{min}~{max}:\",min=min,max=max)\n",
    "    print(keyin)\n",
    "    count += 1\n",
    "    if(keyin == randomNum):\n",
    "        print(f\"賓果!猜對了, 答案是:{randomNum}\")\n",
    "        print(f\"您共猜了:{count}次\")\n",
    "        break\n",
    "    elif keyin > randomNum:\n",
    "        print(\"再小一點\")\n",
    "        max = keyin - 1\n",
    "    elif keyin < randomNum:\n",
    "        print(\"再大一點\")\n",
    "        min = keyin + 1\n",
    "    print(f\"您已經猜了{count}次\")\n",
    "\n",
    "print(\"Game Over!\")"
   ]
  }
 ],
 "metadata": {
  "kernelspec": {
   "display_name": "Python 3",
   "language": "python",
   "name": "python3"
  },
  "language_info": {
   "codemirror_mode": {
    "name": "ipython",
    "version": 3
   },
   "file_extension": ".py",
   "mimetype": "text/x-python",
   "name": "python",
   "nbconvert_exporter": "python",
   "pygments_lexer": "ipython3",
   "version": "3.10.13"
  }
 },
 "nbformat": 4,
 "nbformat_minor": 2
}
