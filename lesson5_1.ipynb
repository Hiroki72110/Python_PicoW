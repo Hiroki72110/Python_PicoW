{
 "cells": [
  {
   "cell_type": "code",
   "execution_count": 1,
   "metadata": {},
   "outputs": [
    {
     "name": "stdout",
     "output_type": "stream",
     "text": [
      "請輸入學生分數(0-100):100\n",
      "優\n"
     ]
    }
   ],
   "source": [
    "#請輸入學生分數(0~100):\n",
    "#0~60,不及格\n",
    "#60~80,及格\n",
    "#80~100,優\n",
    "#檢查超出範圍,格式\n",
    "\n",
    "import pyinputplus as pyip\n",
    "\n",
    "scores = pyip.inputInt(\"請輸入學生分數(0-100):\",max=100,min=0)\n",
    "print(scores)\n",
    "\n",
    "if scores < 60:\n",
    "    print(\"不及格\")\n",
    "else:\n",
    "    if scores < 80:\n",
    "        print(\"及格\")\n",
    "    else:\n",
    "        print(\"優\")"
   ]
  },
  {
   "cell_type": "code",
   "execution_count": 2,
   "metadata": {},
   "outputs": [
    {
     "name": "stdout",
     "output_type": "stream",
     "text": [
      "請輸入學生分數(0-100):50\n",
      "不及格\n"
     ]
    }
   ],
   "source": [
    "#請輸入學生分數(0~100):\n",
    "#0~60,不及格\n",
    "#60~80,及格\n",
    "#80~100,優\n",
    "#檢查超出範圍,格式\n",
    "\n",
    "import pyinputplus as pyip\n",
    "\n",
    "scores = pyip.inputInt(\"請輸入學生分數(0-100):\",max=100,min=0)\n",
    "print(scores)\n",
    "\n",
    "#多向選擇\n",
    "if scores < 60:\n",
    "    print(\"不及格\")\n",
    "elif scores < 80:    \n",
    "    print(\"及格\")\n",
    "else:\n",
    "    print(\"優\")"
   ]
  },
  {
   "cell_type": "code",
   "execution_count": 3,
   "metadata": {},
   "outputs": [
    {
     "name": "stdout",
     "output_type": "stream",
     "text": [
      "請輸入學生分數(0-100):60\n",
      "丙\n"
     ]
    }
   ],
   "source": [
    "# 90(含)~100分為「優」\n",
    "# 80(含)~89分為「甲」\n",
    "# 70(含)~79分為「乙」\n",
    "# 60(含)~69分為「丙」\n",
    "# 0(含)~59分為「丁」\n",
    "scores = pyip.inputInt(\"請輸入學生分數(0-100):\",max=100,min=0)\n",
    "print(scores)\n",
    "\n",
    "if (scores >= 90):\n",
    "    print(\"優\")\n",
    "elif scores >= 80:\n",
    "    print(\"甲\")\n",
    "elif scores >= 70:\n",
    "    print(\"乙\")\n",
    "elif scores >= 60:\n",
    "    print(\"丙\")\n",
    "else:\n",
    "    print(\"丁\")"
   ]
  },
  {
   "cell_type": "code",
   "execution_count": 4,
   "metadata": {},
   "outputs": [
    {
     "name": "stdout",
     "output_type": "stream",
     "text": [
      "請輸入年齡:限制級\n"
     ]
    }
   ],
   "source": [
    "#限制級：18歲或以上皆可欣賞。\n",
    "#輔導級：13(含) ~ 17歲以上皆可欣賞。\n",
    "#普遍級：12(含)歲以下皆可欣賞。\n",
    "#如果沒有輸入年齡預設為普遍級。\n",
    "\n",
    "age = pyip.inputInt(\"請輸入年齡:\",max=100,min=0,blank=True)\n",
    "\n",
    "if age == \"\":\n",
    "    print(\"普遍級\")\n",
    "elif age >= 18:\n",
    "    print(\"限制級\")\n",
    "elif age >= 13:\n",
    "    print(\"輔導級\")\n",
    "else:\n",
    "    print(\"普遍級\")"
   ]
  }
 ],
 "metadata": {
  "kernelspec": {
   "display_name": "Python 3",
   "language": "python",
   "name": "python3"
  },
  "language_info": {
   "codemirror_mode": {
    "name": "ipython",
    "version": 3
   },
   "file_extension": ".py",
   "mimetype": "text/x-python",
   "name": "python",
   "nbconvert_exporter": "python",
   "pygments_lexer": "ipython3",
   "version": "3.10.13"
  }
 },
 "nbformat": 4,
 "nbformat_minor": 2
}
