{
 "cells": [
  {
   "cell_type": "code",
   "execution_count": 1,
   "metadata": {},
   "outputs": [
    {
     "name": "stdout",
     "output_type": "stream",
     "text": [
      "請問是否加分(y,n):yes\n",
      "加分\n"
     ]
    }
   ],
   "source": [
    "import pyinputplus as pyip\n",
    "\n",
    "is_yes = pyip.inputYesNo(\"請問是否加分(y,n):\")\n",
    "print(is_yes)\n",
    "if is_yes == \"yes\":\n",
    "    print(\"加分\")\n",
    "else:\n",
    "    print(\"No\")"
   ]
  },
  {
   "cell_type": "code",
   "execution_count": 2,
   "metadata": {},
   "outputs": [
    {
     "name": "stdout",
     "output_type": "stream",
     "text": [
      "請問是否加分(y,n):yes\n",
      "加分\n"
     ]
    }
   ],
   "source": [
    "import pyinputplus as pyip\n",
    "\n",
    "is_yes = pyip.inputYesNo(\"請問是否加分(y,n):\")\n",
    "print(is_yes)\n",
    "if not (is_yes == \"yes\"):\n",
    "    print(\"No\")\n",
    "else:\n",
    "    print(\"加分\")\n",
    "    "
   ]
  },
  {
   "cell_type": "code",
   "execution_count": 3,
   "metadata": {},
   "outputs": [
    {
     "name": "stdout",
     "output_type": "stream",
     "text": [
      "請輸入國文分數:100\n",
      "請輸入數學分數:100\n",
      "獎金:1000\n"
     ]
    }
   ],
   "source": [
    "#國文100,同時數學100,獎金1000\n",
    "#國文100,或者數學100,獎金500\n",
    "#其它獎金0\n",
    "\n",
    "chinese = pyip.inputInt(\"請輸入國文分數:\",min=0,max=100)\n",
    "print(chinese)\n",
    "math = pyip.inputInt(\"請輸入數學分數:\",min=0,max=100)\n",
    "print(math)\n",
    "bonus = 0\n",
    "\n",
    "#巢狀判斷\n",
    "if chinese == 100:\n",
    "    if math == 100:\n",
    "        bonus = 1000\n",
    "    else:\n",
    "        bonus = 500\n",
    "elif math == 100:\n",
    "    bonus = 500\n",
    "\n",
    "print(f\"獎金:{bonus}\")"
   ]
  },
  {
   "cell_type": "code",
   "execution_count": 4,
   "metadata": {},
   "outputs": [
    {
     "name": "stdout",
     "output_type": "stream",
     "text": [
      "請輸入國文分數:100\n",
      "請輸入數學分數:100\n",
      "獎金:1000\n"
     ]
    }
   ],
   "source": [
    "#國文100,同時數學100,獎金1000\n",
    "#國文100,或者數學100,獎金500\n",
    "#其它獎金0\n",
    "\n",
    "chinese = pyip.inputInt(\"請輸入國文分數:\",min=0,max=100)\n",
    "print(chinese)\n",
    "math = pyip.inputInt(\"請輸入數學分數:\",min=0,max=100)\n",
    "print(math)\n",
    "bonus = 0\n",
    "\n",
    "#邏輯運算子\n",
    "if chinese == 100 and math == 100:\n",
    "    bonus = 1000\n",
    "elif chinese == 100 or math == 100:\n",
    "    bonus = 500\n",
    "    \n",
    "\n",
    "print(f\"獎金:{bonus}\")"
   ]
  }
 ],
 "metadata": {
  "kernelspec": {
   "display_name": "Python 3",
   "language": "python",
   "name": "python3"
  },
  "language_info": {
   "codemirror_mode": {
    "name": "ipython",
    "version": 3
   },
   "file_extension": ".py",
   "mimetype": "text/x-python",
   "name": "python",
   "nbconvert_exporter": "python",
   "pygments_lexer": "ipython3",
   "version": "3.10.13"
  }
 },
 "nbformat": 4,
 "nbformat_minor": 2
}
