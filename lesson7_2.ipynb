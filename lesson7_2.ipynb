{
 "cells": [
  {
   "cell_type": "code",
   "execution_count": 9,
   "metadata": {},
   "outputs": [
    {
     "ename": "TclError",
     "evalue": "no display name and no $DISPLAY environment variable",
     "output_type": "error",
     "traceback": [
      "\u001b[0;31m---------------------------------------------------------------------------\u001b[0m",
      "\u001b[0;31mTclError\u001b[0m                                  Traceback (most recent call last)",
      "Cell \u001b[0;32mIn[9], line 6\u001b[0m\n\u001b[1;32m      3\u001b[0m \u001b[38;5;28;01mfrom\u001b[39;00m \u001b[38;5;21;01mtkinter\u001b[39;00m \u001b[38;5;28;01mimport\u001b[39;00m \u001b[38;5;241m*\u001b[39m\n\u001b[1;32m      5\u001b[0m \u001b[38;5;66;03m#定義窗體\u001b[39;00m\n\u001b[0;32m----> 6\u001b[0m root \u001b[38;5;241m=\u001b[39m \u001b[43mTk\u001b[49m\u001b[43m(\u001b[49m\u001b[43m)\u001b[49m\n\u001b[1;32m      7\u001b[0m root\u001b[38;5;241m.\u001b[39mtitle(\u001b[38;5;124m\"\u001b[39m\u001b[38;5;124m高血壓判斷\u001b[39m\u001b[38;5;124m\"\u001b[39m)\n\u001b[1;32m      8\u001b[0m root\u001b[38;5;241m.\u001b[39mgeometry(\u001b[38;5;124m\"\u001b[39m\u001b[38;5;124m400x300\u001b[39m\u001b[38;5;124m\"\u001b[39m)\n",
      "File \u001b[0;32m/usr/local/lib/python3.10/tkinter/__init__.py:2299\u001b[0m, in \u001b[0;36mTk.__init__\u001b[0;34m(self, screenName, baseName, className, useTk, sync, use)\u001b[0m\n\u001b[1;32m   2297\u001b[0m         baseName \u001b[38;5;241m=\u001b[39m baseName \u001b[38;5;241m+\u001b[39m ext\n\u001b[1;32m   2298\u001b[0m interactive \u001b[38;5;241m=\u001b[39m \u001b[38;5;28;01mFalse\u001b[39;00m\n\u001b[0;32m-> 2299\u001b[0m \u001b[38;5;28mself\u001b[39m\u001b[38;5;241m.\u001b[39mtk \u001b[38;5;241m=\u001b[39m \u001b[43m_tkinter\u001b[49m\u001b[38;5;241;43m.\u001b[39;49m\u001b[43mcreate\u001b[49m\u001b[43m(\u001b[49m\u001b[43mscreenName\u001b[49m\u001b[43m,\u001b[49m\u001b[43m \u001b[49m\u001b[43mbaseName\u001b[49m\u001b[43m,\u001b[49m\u001b[43m \u001b[49m\u001b[43mclassName\u001b[49m\u001b[43m,\u001b[49m\u001b[43m \u001b[49m\u001b[43minteractive\u001b[49m\u001b[43m,\u001b[49m\u001b[43m \u001b[49m\u001b[43mwantobjects\u001b[49m\u001b[43m,\u001b[49m\u001b[43m \u001b[49m\u001b[43museTk\u001b[49m\u001b[43m,\u001b[49m\u001b[43m \u001b[49m\u001b[43msync\u001b[49m\u001b[43m,\u001b[49m\u001b[43m \u001b[49m\u001b[43muse\u001b[49m\u001b[43m)\u001b[49m\n\u001b[1;32m   2300\u001b[0m \u001b[38;5;28;01mif\u001b[39;00m useTk:\n\u001b[1;32m   2301\u001b[0m     \u001b[38;5;28mself\u001b[39m\u001b[38;5;241m.\u001b[39m_loadtk()\n",
      "\u001b[0;31mTclError\u001b[0m: no display name and no $DISPLAY environment variable"
     ]
    }
   ],
   "source": [
    "import tkinter as tk\n",
    "from tkinter import ttk\n",
    "from tkinter import *\n",
    "\n",
    "#定義窗體\n",
    "root = Tk()\n",
    "root.title(\"高血壓判斷\")\n",
    "root.geometry(\"400x300\")\n",
    "\n",
    "#控件_標籤\n",
    "lb1 = Label(root, text='請輸入收縮壓[mmHg]')\n",
    "lb1.place(x=10, y=10, anchor=NW)\n",
    "\n",
    "lb2 = Label(root, text='請輸入舒張壓[mmHg]')\n",
    "lb2.place(x=10, y=40, anchor=NW)\n",
    "\n",
    "#控件_輸入文字框 [收縮壓]\n",
    "#entry_1 = Entry(width=30, font=(\"Arial\", 12, \"bold\"),  bg=\"white\", fg=\"black\", state=NORMAL)\n",
    "entry_1 = Entry(width=30, state=NORMAL)\n",
    "entry_1.insert(END, string=\"\")\n",
    "entry_1.place(x=150, y=10, anchor=NW)\n",
    "\n",
    "#控件_輸入文字框 [舒張壓]\n",
    "#entry_2 = Entry(width=30, font=(\"Arial\", 12, \"bold\"),  bg=\"white\", fg=\"black\", state=NORMAL)\n",
    "entry_2 = Entry(width=30, state=NORMAL)\n",
    "entry_2.insert(END, string=\"\")\n",
    "entry_2.place(x=150, y=40, anchor=NW)\n",
    "\n",
    "#按紐 Clicked 事件\n",
    "def btn_1_clicked():\n",
    "   nSBP = int (entry_1.get()) #收縮壓\n",
    "   nDBP = int (entry_2.get()) #舒張壓\n",
    "   str_1=\"\"\n",
    "   if ( nSBP< 120) and ( nDBP<80):\n",
    "     str_1=\"您的血壓分類:\" + \"正常\"\n",
    "   elif (nSBP>=120 and nSBP<=129) and (nDBP <80):\n",
    "     str_1=\"您的血壓分類:\" + \"血壓升高\"\n",
    "   elif (nSBP>=130 and nSBP<=139) and (nDBP >= 80 and nDBP <= 89 ):\n",
    "     str_1=\"您的血壓分類:\" + \"血壓第一期\"\n",
    "   elif (nSBP >= 140) or (nDBP >= 90 ):\n",
    "     str_1=\"您的血壓分類:\" + \"血壓第二期\"\n",
    "   elif (nSBP >= 130) or (nDBP < 80 ):\n",
    "     str_1=\"您的血壓分類:\" + \"單純收縮期高壓\"  \n",
    "   else:\n",
    "     str_1=\"超出範圍,系統無法判定\"\n",
    "   lb4 = Label(root, text=str_1)\n",
    "   lb4.place(x=10, y=120, anchor=NW)\n",
    "\n",
    "#控件_按紐\n",
    "btn_1 = Button(text=\" 高血壓判斷 \",  command=btn_1_clicked)\n",
    "btn_1.place(x=300, y=160, anchor=NW)\n",
    "\n",
    "root.mainloop()"
   ]
  }
 ],
 "metadata": {
  "kernelspec": {
   "display_name": "Python 3",
   "language": "python",
   "name": "python3"
  },
  "language_info": {
   "codemirror_mode": {
    "name": "ipython",
    "version": 3
   },
   "file_extension": ".py",
   "mimetype": "text/x-python",
   "name": "python",
   "nbconvert_exporter": "python",
   "pygments_lexer": "ipython3",
   "version": "3.10.13"
  }
 },
 "nbformat": 4,
 "nbformat_minor": 2
}
